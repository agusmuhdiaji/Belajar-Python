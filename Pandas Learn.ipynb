{
 "cells": [
  {
   "cell_type": "markdown",
   "metadata": {},
   "source": [
    "## Pandas digunakan untuk dua data berbeda\n",
    "### 1. Series merepresentasikan data dalam bentuk 1D\n",
    "### 2. Data Frame merepresentasikan data dalam bentuk tabular 2D"
   ]
  },
  {
   "cell_type": "code",
   "execution_count": 1,
   "metadata": {},
   "outputs": [],
   "source": [
    "#pandas series adalah 1D array dengan label"
   ]
  },
  {
   "cell_type": "code",
   "execution_count": 5,
   "metadata": {},
   "outputs": [],
   "source": [
    "import pandas as pd"
   ]
  },
  {
   "cell_type": "code",
   "execution_count": 7,
   "metadata": {},
   "outputs": [
    {
     "data": {
      "text/plain": [
       "a      3\n",
       "b    cat\n",
       "c    2.5\n",
       "dtype: object"
      ]
     },
     "execution_count": 7,
     "metadata": {},
     "output_type": "execute_result"
    }
   ],
   "source": [
    "#pandas series berasal dari Python dictionaries (struktur data untuk menyimpan sepasang key value)\n",
    "#keys memuat index atau label untuk value\n",
    "dict={'a':3, 'b':'cat', 'c':2.5} #a adalah label dan 3 adalah index atau value\n",
    "pd.Series(dict) #S untuk series harus kapital"
   ]
  },
  {
   "cell_type": "code",
   "execution_count": 11,
   "metadata": {},
   "outputs": [
    {
     "data": {
      "text/plain": [
       "Amy      100\n",
       "Bobby    cat\n",
       "Cat      310\n",
       "Don      gog\n",
       "Emma     500\n",
       "dtype: object"
      ]
     },
     "execution_count": 11,
     "metadata": {},
     "output_type": "execute_result"
    }
   ],
   "source": [
    "oneD=pd.Series([100, 'cat', 310, 'gog', 500], ['Amy', 'Bobby', 'Cat', 'Don', 'Emma'])\n",
    "oneD"
   ]
  },
  {
   "cell_type": "code",
   "execution_count": 12,
   "metadata": {},
   "outputs": [
    {
     "data": {
      "text/plain": [
       "Amy      100\n",
       "Bobby    cat\n",
       "Cat      310\n",
       "Don      gog\n",
       "Emma     500\n",
       "dtype: object"
      ]
     },
     "execution_count": 12,
     "metadata": {},
     "output_type": "execute_result"
    }
   ],
   "source": [
    "oneD=pd.Series([100, 'cat', 310, 'gog', 500], index=['Amy', 'Bobby', 'Cat', 'Don', 'Emma']) #index untuk label values\n",
    "oneD"
   ]
  },
  {
   "cell_type": "code",
   "execution_count": 13,
   "metadata": {},
   "outputs": [
    {
     "data": {
      "text/plain": [
       "Cat     310\n",
       "Emma    500\n",
       "dtype: object"
      ]
     },
     "execution_count": 13,
     "metadata": {},
     "output_type": "execute_result"
    }
   ],
   "source": [
    "oneD.loc[['Cat','Emma']] #loc adalah lokasi label berdasarkan index yang dipilih dengan label yaitu cat dan emma"
   ]
  },
  {
   "cell_type": "code",
   "execution_count": 15,
   "metadata": {},
   "outputs": [
    {
     "data": {
      "text/plain": [
       "Amy     100\n",
       "Don     gog\n",
       "Emma    500\n",
       "dtype: object"
      ]
     },
     "execution_count": 15,
     "metadata": {},
     "output_type": "execute_result"
    }
   ],
   "source": [
    "oneD[[0,3,4]] #menampilkan data pada index 0, 3 dan 4"
   ]
  },
  {
   "cell_type": "code",
   "execution_count": 14,
   "metadata": {},
   "outputs": [
    {
     "data": {
      "text/plain": [
       "'cat'"
      ]
     },
     "execution_count": 14,
     "metadata": {},
     "output_type": "execute_result"
    }
   ],
   "source": [
    "oneD.iloc[1] #iloc menampilkan berdasarkan posisi integer di perintah dalam contoh mengakses index 1 (dari 0 hingga panjangnya -1 berdasarkan axis)"
   ]
  },
  {
   "cell_type": "code",
   "execution_count": 16,
   "metadata": {},
   "outputs": [
    {
     "data": {
      "text/plain": [
       "False"
      ]
     },
     "execution_count": 16,
     "metadata": {},
     "output_type": "execute_result"
    }
   ],
   "source": [
    "'cat' in oneD #mengecek apakah cat terdapat dalam index series"
   ]
  },
  {
   "cell_type": "code",
   "execution_count": 17,
   "metadata": {},
   "outputs": [
    {
     "data": {
      "text/plain": [
       "True"
      ]
     },
     "execution_count": 17,
     "metadata": {},
     "output_type": "execute_result"
    }
   ],
   "source": [
    "'Cat' in oneD #yang digunakan adalah labelnya"
   ]
  },
  {
   "cell_type": "code",
   "execution_count": 18,
   "metadata": {},
   "outputs": [],
   "source": [
    "d={'A':pd.Series([100.,200.,300.], index=['apple', 'orange', 'pear']),\n",
    "   'B':pd.Series([111.,222.,333.,444.], index=['apple', 'orange', 'pear', 'melon'])}"
   ]
  },
  {
   "cell_type": "code",
   "execution_count": 19,
   "metadata": {},
   "outputs": [
    {
     "name": "stdout",
     "output_type": "stream",
     "text": [
      "            A      B\n",
      "apple   100.0  111.0\n",
      "melon     NaN  444.0\n",
      "orange  200.0  222.0\n",
      "pear    300.0  333.0\n"
     ]
    }
   ],
   "source": [
    "df=pd.DataFrame(d)\n",
    "print(df) #ketika tidak ada nilai maka indeks akan menghasilkan Nan"
   ]
  },
  {
   "cell_type": "code",
   "execution_count": 20,
   "metadata": {},
   "outputs": [
    {
     "name": "stdout",
     "output_type": "stream",
     "text": [
      "<class 'pandas.core.frame.DataFrame'>\n"
     ]
    }
   ],
   "source": [
    "print(type(df))"
   ]
  },
  {
   "cell_type": "code",
   "execution_count": 21,
   "metadata": {},
   "outputs": [
    {
     "data": {
      "text/plain": [
       "Index(['apple', 'melon', 'orange', 'pear'], dtype='object')"
      ]
     },
     "execution_count": 21,
     "metadata": {},
     "output_type": "execute_result"
    }
   ],
   "source": [
    "df.index #menampilkan indeks"
   ]
  },
  {
   "cell_type": "code",
   "execution_count": 22,
   "metadata": {},
   "outputs": [
    {
     "data": {
      "text/plain": [
       "Index(['A', 'B'], dtype='object')"
      ]
     },
     "execution_count": 22,
     "metadata": {},
     "output_type": "execute_result"
    }
   ],
   "source": [
    "df.columns #menampilkan kolom"
   ]
  },
  {
   "cell_type": "code",
   "execution_count": 23,
   "metadata": {},
   "outputs": [
    {
     "data": {
      "text/html": [
       "<div>\n",
       "<style scoped>\n",
       "    .dataframe tbody tr th:only-of-type {\n",
       "        vertical-align: middle;\n",
       "    }\n",
       "\n",
       "    .dataframe tbody tr th {\n",
       "        vertical-align: top;\n",
       "    }\n",
       "\n",
       "    .dataframe thead th {\n",
       "        text-align: right;\n",
       "    }\n",
       "</style>\n",
       "<table border=\"1\" class=\"dataframe\">\n",
       "  <thead>\n",
       "    <tr style=\"text-align: right;\">\n",
       "      <th></th>\n",
       "      <th>A</th>\n",
       "    </tr>\n",
       "  </thead>\n",
       "  <tbody>\n",
       "    <tr>\n",
       "      <th>orange</th>\n",
       "      <td>200.0</td>\n",
       "    </tr>\n",
       "    <tr>\n",
       "      <th>melon</th>\n",
       "      <td>NaN</td>\n",
       "    </tr>\n",
       "    <tr>\n",
       "      <th>apple</th>\n",
       "      <td>100.0</td>\n",
       "    </tr>\n",
       "  </tbody>\n",
       "</table>\n",
       "</div>"
      ],
      "text/plain": [
       "            A\n",
       "orange  200.0\n",
       "melon     NaN\n",
       "apple   100.0"
      ]
     },
     "execution_count": 23,
     "metadata": {},
     "output_type": "execute_result"
    }
   ],
   "source": [
    "pd.DataFrame(df, index=['orange', 'melon', 'apple'], columns=['A']) #menampilkan baris/indeks dan kolom yang diinginkan"
   ]
  },
  {
   "cell_type": "markdown",
   "metadata": {},
   "source": [
    "## read in csv"
   ]
  },
  {
   "cell_type": "code",
   "execution_count": 1,
   "metadata": {},
   "outputs": [],
   "source": [
    "import numpy as np\n",
    "import pandas as pd"
   ]
  },
  {
   "cell_type": "code",
   "execution_count": 3,
   "metadata": {},
   "outputs": [
    {
     "data": {
      "text/html": [
       "<div>\n",
       "<style scoped>\n",
       "    .dataframe tbody tr th:only-of-type {\n",
       "        vertical-align: middle;\n",
       "    }\n",
       "\n",
       "    .dataframe tbody tr th {\n",
       "        vertical-align: top;\n",
       "    }\n",
       "\n",
       "    .dataframe thead th {\n",
       "        text-align: right;\n",
       "    }\n",
       "</style>\n",
       "<table border=\"1\" class=\"dataframe\">\n",
       "  <thead>\n",
       "    <tr style=\"text-align: right;\">\n",
       "      <th></th>\n",
       "      <th>experience</th>\n",
       "      <th>respiration</th>\n",
       "    </tr>\n",
       "  </thead>\n",
       "  <tbody>\n",
       "    <tr>\n",
       "      <th>0</th>\n",
       "      <td>0</td>\n",
       "      <td>3.94</td>\n",
       "    </tr>\n",
       "    <tr>\n",
       "      <th>1</th>\n",
       "      <td>0</td>\n",
       "      <td>4.26</td>\n",
       "    </tr>\n",
       "    <tr>\n",
       "      <th>2</th>\n",
       "      <td>0</td>\n",
       "      <td>4.16</td>\n",
       "    </tr>\n",
       "    <tr>\n",
       "      <th>3</th>\n",
       "      <td>0</td>\n",
       "      <td>3.76</td>\n",
       "    </tr>\n",
       "    <tr>\n",
       "      <th>4</th>\n",
       "      <td>0</td>\n",
       "      <td>4.07</td>\n",
       "    </tr>\n",
       "  </tbody>\n",
       "</table>\n",
       "</div>"
      ],
      "text/plain": [
       "   experience  respiration\n",
       "0           0         3.94\n",
       "1           0         4.26\n",
       "2           0         4.16\n",
       "3           0         3.76\n",
       "4           0         4.07"
      ]
     },
     "execution_count": 3,
     "metadata": {},
     "output_type": "execute_result"
    }
   ],
   "source": [
    "file=\"D:\\Data Science\\scriptsLecture\\section4\\Resp2.csv\"\n",
    "df1=pd.read_csv(file)\n",
    "df1.head() #df head menampilkan banyaknya tabel yang akan ditampilkan\n",
    "\n",
    "#membuka file csv harus menggunakan underskor pada fungsinya"
   ]
  },
  {
   "cell_type": "code",
   "execution_count": 8,
   "metadata": {},
   "outputs": [
    {
     "data": {
      "text/html": [
       "<div>\n",
       "<style scoped>\n",
       "    .dataframe tbody tr th:only-of-type {\n",
       "        vertical-align: middle;\n",
       "    }\n",
       "\n",
       "    .dataframe tbody tr th {\n",
       "        vertical-align: top;\n",
       "    }\n",
       "\n",
       "    .dataframe thead th {\n",
       "        text-align: right;\n",
       "    }\n",
       "</style>\n",
       "<table border=\"1\" class=\"dataframe\">\n",
       "  <thead>\n",
       "    <tr style=\"text-align: right;\">\n",
       "      <th></th>\n",
       "      <th>fixed acidity</th>\n",
       "      <th>volatile acidity</th>\n",
       "      <th>citric acid</th>\n",
       "      <th>residual sugar</th>\n",
       "      <th>chlorides</th>\n",
       "      <th>free sulfur dioxide</th>\n",
       "      <th>total sulfur dioxide</th>\n",
       "      <th>density</th>\n",
       "      <th>pH</th>\n",
       "      <th>sulphates</th>\n",
       "      <th>alcohol</th>\n",
       "      <th>quality</th>\n",
       "    </tr>\n",
       "  </thead>\n",
       "  <tbody>\n",
       "    <tr>\n",
       "      <th>0</th>\n",
       "      <td>7.4</td>\n",
       "      <td>0.70</td>\n",
       "      <td>0.00</td>\n",
       "      <td>1.9</td>\n",
       "      <td>0.076</td>\n",
       "      <td>11.0</td>\n",
       "      <td>34.0</td>\n",
       "      <td>0.9978</td>\n",
       "      <td>3.51</td>\n",
       "      <td>0.56</td>\n",
       "      <td>9.4</td>\n",
       "      <td>5</td>\n",
       "    </tr>\n",
       "    <tr>\n",
       "      <th>1</th>\n",
       "      <td>7.8</td>\n",
       "      <td>0.88</td>\n",
       "      <td>0.00</td>\n",
       "      <td>2.6</td>\n",
       "      <td>0.098</td>\n",
       "      <td>25.0</td>\n",
       "      <td>67.0</td>\n",
       "      <td>0.9968</td>\n",
       "      <td>3.20</td>\n",
       "      <td>0.68</td>\n",
       "      <td>9.8</td>\n",
       "      <td>5</td>\n",
       "    </tr>\n",
       "    <tr>\n",
       "      <th>2</th>\n",
       "      <td>7.8</td>\n",
       "      <td>0.76</td>\n",
       "      <td>0.04</td>\n",
       "      <td>2.3</td>\n",
       "      <td>0.092</td>\n",
       "      <td>15.0</td>\n",
       "      <td>54.0</td>\n",
       "      <td>0.9970</td>\n",
       "      <td>3.26</td>\n",
       "      <td>0.65</td>\n",
       "      <td>9.8</td>\n",
       "      <td>5</td>\n",
       "    </tr>\n",
       "    <tr>\n",
       "      <th>3</th>\n",
       "      <td>11.2</td>\n",
       "      <td>0.28</td>\n",
       "      <td>0.56</td>\n",
       "      <td>1.9</td>\n",
       "      <td>0.075</td>\n",
       "      <td>17.0</td>\n",
       "      <td>60.0</td>\n",
       "      <td>0.9980</td>\n",
       "      <td>3.16</td>\n",
       "      <td>0.58</td>\n",
       "      <td>9.8</td>\n",
       "      <td>6</td>\n",
       "    </tr>\n",
       "    <tr>\n",
       "      <th>4</th>\n",
       "      <td>7.4</td>\n",
       "      <td>0.70</td>\n",
       "      <td>0.00</td>\n",
       "      <td>1.9</td>\n",
       "      <td>0.076</td>\n",
       "      <td>11.0</td>\n",
       "      <td>34.0</td>\n",
       "      <td>0.9978</td>\n",
       "      <td>3.51</td>\n",
       "      <td>0.56</td>\n",
       "      <td>9.4</td>\n",
       "      <td>5</td>\n",
       "    </tr>\n",
       "  </tbody>\n",
       "</table>\n",
       "</div>"
      ],
      "text/plain": [
       "   fixed acidity  volatile acidity  citric acid  residual sugar  chlorides  \\\n",
       "0            7.4              0.70         0.00             1.9      0.076   \n",
       "1            7.8              0.88         0.00             2.6      0.098   \n",
       "2            7.8              0.76         0.04             2.3      0.092   \n",
       "3           11.2              0.28         0.56             1.9      0.075   \n",
       "4            7.4              0.70         0.00             1.9      0.076   \n",
       "\n",
       "   free sulfur dioxide  total sulfur dioxide  density    pH  sulphates  \\\n",
       "0                 11.0                  34.0   0.9978  3.51       0.56   \n",
       "1                 25.0                  67.0   0.9968  3.20       0.68   \n",
       "2                 15.0                  54.0   0.9970  3.26       0.65   \n",
       "3                 17.0                  60.0   0.9980  3.16       0.58   \n",
       "4                 11.0                  34.0   0.9978  3.51       0.56   \n",
       "\n",
       "   alcohol  quality  \n",
       "0      9.4        5  \n",
       "1      9.8        5  \n",
       "2      9.8        5  \n",
       "3      9.8        6  \n",
       "4      9.4        5  "
      ]
     },
     "execution_count": 8,
     "metadata": {},
     "output_type": "execute_result"
    }
   ],
   "source": [
    "#membuka file csv dengan separator atau pemisah\n",
    "file=\"D:\\Data Science\\scriptsLecture\\section4\\winequality-red.csv\"\n",
    "df1=pd.read_csv(file)\n",
    "df1=pd.read_csv(file, sep=\";\") #fungsi pemisah untuk tabel yang tidak beraturan\n",
    "df1.head()"
   ]
  },
  {
   "cell_type": "markdown",
   "metadata": {},
   "source": [
    "## read in .txt"
   ]
  },
  {
   "cell_type": "code",
   "execution_count": null,
   "metadata": {},
   "outputs": [],
   "source": [
    "import numpy as np\n",
    "import pandas as pd"
   ]
  },
  {
   "cell_type": "code",
   "execution_count": 30,
   "metadata": {
    "scrolled": true
   },
   "outputs": [
    {
     "data": {
      "text/html": [
       "<div>\n",
       "<style scoped>\n",
       "    .dataframe tbody tr th:only-of-type {\n",
       "        vertical-align: middle;\n",
       "    }\n",
       "\n",
       "    .dataframe tbody tr th {\n",
       "        vertical-align: top;\n",
       "    }\n",
       "\n",
       "    .dataframe thead th {\n",
       "        text-align: right;\n",
       "    }\n",
       "</style>\n",
       "<table border=\"1\" class=\"dataframe\">\n",
       "  <thead>\n",
       "    <tr style=\"text-align: right;\">\n",
       "      <th></th>\n",
       "      <th>MV</th>\n",
       "      <th>INDUS</th>\n",
       "      <th>NOX</th>\n",
       "      <th>RM</th>\n",
       "      <th>TAX</th>\n",
       "      <th>PT</th>\n",
       "      <th>LSTAT</th>\n",
       "    </tr>\n",
       "  </thead>\n",
       "  <tbody>\n",
       "    <tr>\n",
       "      <th>0</th>\n",
       "      <td>24.0</td>\n",
       "      <td>2.31</td>\n",
       "      <td>53.8</td>\n",
       "      <td>6.575</td>\n",
       "      <td>296</td>\n",
       "      <td>15.3</td>\n",
       "      <td>4.98</td>\n",
       "    </tr>\n",
       "    <tr>\n",
       "      <th>1</th>\n",
       "      <td>21.6</td>\n",
       "      <td>7.07</td>\n",
       "      <td>46.9</td>\n",
       "      <td>6.421</td>\n",
       "      <td>242</td>\n",
       "      <td>17.8</td>\n",
       "      <td>9.14</td>\n",
       "    </tr>\n",
       "    <tr>\n",
       "      <th>2</th>\n",
       "      <td>34.7</td>\n",
       "      <td>7.07</td>\n",
       "      <td>46.9</td>\n",
       "      <td>7.185</td>\n",
       "      <td>242</td>\n",
       "      <td>17.8</td>\n",
       "      <td>4.03</td>\n",
       "    </tr>\n",
       "    <tr>\n",
       "      <th>3</th>\n",
       "      <td>33.4</td>\n",
       "      <td>2.18</td>\n",
       "      <td>45.8</td>\n",
       "      <td>6.998</td>\n",
       "      <td>222</td>\n",
       "      <td>18.7</td>\n",
       "      <td>2.94</td>\n",
       "    </tr>\n",
       "    <tr>\n",
       "      <th>4</th>\n",
       "      <td>36.2</td>\n",
       "      <td>2.18</td>\n",
       "      <td>45.8</td>\n",
       "      <td>7.147</td>\n",
       "      <td>222</td>\n",
       "      <td>18.7</td>\n",
       "      <td>5.33</td>\n",
       "    </tr>\n",
       "  </tbody>\n",
       "</table>\n",
       "</div>"
      ],
      "text/plain": [
       "     MV  INDUS   NOX     RM  TAX    PT  LSTAT\n",
       "0  24.0   2.31  53.8  6.575  296  15.3   4.98\n",
       "1  21.6   7.07  46.9  6.421  242  17.8   9.14\n",
       "2  34.7   7.07  46.9  7.185  242  17.8   4.03\n",
       "3  33.4   2.18  45.8  6.998  222  18.7   2.94\n",
       "4  36.2   2.18  45.8  7.147  222  18.7   5.33"
      ]
     },
     "execution_count": 30,
     "metadata": {},
     "output_type": "execute_result"
    }
   ],
   "source": [
    "file=\"D:\\\\Data Science\\\\scriptsLecture\\\\section4\\\\bostonTxt.txt\" #membukanya dengan garis miring dua\n",
    "df1=pd.read_csv(file)\n",
    "df1=pd.read_csv(file, sep=\"\\t\") #t adalah tab\n",
    "df1.head()"
   ]
  },
  {
   "cell_type": "markdown",
   "metadata": {},
   "source": [
    "## read file excel"
   ]
  },
  {
   "cell_type": "code",
   "execution_count": 22,
   "metadata": {},
   "outputs": [],
   "source": [
    "import pandas as pd"
   ]
  },
  {
   "cell_type": "code",
   "execution_count": 23,
   "metadata": {},
   "outputs": [],
   "source": [
    "import os"
   ]
  },
  {
   "cell_type": "code",
   "execution_count": 24,
   "metadata": {},
   "outputs": [
    {
     "data": {
      "text/plain": [
       "'D:\\\\'"
      ]
     },
     "execution_count": 24,
     "metadata": {},
     "output_type": "execute_result"
    }
   ],
   "source": [
    "os.getcwd()"
   ]
  },
  {
   "cell_type": "code",
   "execution_count": 28,
   "metadata": {},
   "outputs": [
    {
     "name": "stdout",
     "output_type": "stream",
     "text": [
      "['Sheet1', 'Sheet2']\n"
     ]
    }
   ],
   "source": [
    "file=\"D:\\\\Data Science\\\\scriptsLecture\\\\section4\\\\boston1.xls\"\n",
    "x1=pd.ExcelFile(file) #membuka file excel\n",
    "print(x1.sheet_names) #melihat nama sheet"
   ]
  },
  {
   "cell_type": "code",
   "execution_count": 32,
   "metadata": {
    "scrolled": true
   },
   "outputs": [
    {
     "data": {
      "text/html": [
       "<div>\n",
       "<style scoped>\n",
       "    .dataframe tbody tr th:only-of-type {\n",
       "        vertical-align: middle;\n",
       "    }\n",
       "\n",
       "    .dataframe tbody tr th {\n",
       "        vertical-align: top;\n",
       "    }\n",
       "\n",
       "    .dataframe thead th {\n",
       "        text-align: right;\n",
       "    }\n",
       "</style>\n",
       "<table border=\"1\" class=\"dataframe\">\n",
       "  <thead>\n",
       "    <tr style=\"text-align: right;\">\n",
       "      <th></th>\n",
       "      <th>MV</th>\n",
       "      <th>INDUS</th>\n",
       "      <th>NOX</th>\n",
       "      <th>RM</th>\n",
       "      <th>TAX</th>\n",
       "      <th>PT</th>\n",
       "      <th>LSTAT</th>\n",
       "      <th>Unnamed: 7</th>\n",
       "      <th>Unnamed: 8</th>\n",
       "      <th>Unnamed: 9</th>\n",
       "    </tr>\n",
       "  </thead>\n",
       "  <tbody>\n",
       "    <tr>\n",
       "      <th>0</th>\n",
       "      <td>24.0</td>\n",
       "      <td>2.31</td>\n",
       "      <td>53.8</td>\n",
       "      <td>6.575</td>\n",
       "      <td>296</td>\n",
       "      <td>15.3</td>\n",
       "      <td>4.98</td>\n",
       "      <td>NaN</td>\n",
       "      <td>NaN</td>\n",
       "      <td>Subset of Boston housing tract</td>\n",
       "    </tr>\n",
       "    <tr>\n",
       "      <th>1</th>\n",
       "      <td>21.6</td>\n",
       "      <td>7.07</td>\n",
       "      <td>46.9</td>\n",
       "      <td>6.421</td>\n",
       "      <td>242</td>\n",
       "      <td>17.8</td>\n",
       "      <td>9.14</td>\n",
       "      <td>NaN</td>\n",
       "      <td>NaN</td>\n",
       "      <td>data of Harrison and Rubinfeld</td>\n",
       "    </tr>\n",
       "    <tr>\n",
       "      <th>2</th>\n",
       "      <td>34.7</td>\n",
       "      <td>7.07</td>\n",
       "      <td>46.9</td>\n",
       "      <td>7.185</td>\n",
       "      <td>242</td>\n",
       "      <td>17.8</td>\n",
       "      <td>4.03</td>\n",
       "      <td>NaN</td>\n",
       "      <td>NaN</td>\n",
       "      <td>(1978).  Each case is one U.S.</td>\n",
       "    </tr>\n",
       "    <tr>\n",
       "      <th>3</th>\n",
       "      <td>33.4</td>\n",
       "      <td>2.18</td>\n",
       "      <td>45.8</td>\n",
       "      <td>6.998</td>\n",
       "      <td>222</td>\n",
       "      <td>18.7</td>\n",
       "      <td>2.94</td>\n",
       "      <td>NaN</td>\n",
       "      <td>NaN</td>\n",
       "      <td>Census tract in the Boston area.</td>\n",
       "    </tr>\n",
       "    <tr>\n",
       "      <th>4</th>\n",
       "      <td>36.2</td>\n",
       "      <td>2.18</td>\n",
       "      <td>45.8</td>\n",
       "      <td>7.147</td>\n",
       "      <td>222</td>\n",
       "      <td>18.7</td>\n",
       "      <td>5.33</td>\n",
       "      <td>NaN</td>\n",
       "      <td>NaN</td>\n",
       "      <td>NaN</td>\n",
       "    </tr>\n",
       "  </tbody>\n",
       "</table>\n",
       "</div>"
      ],
      "text/plain": [
       "     MV  INDUS   NOX     RM  TAX    PT  LSTAT  Unnamed: 7  Unnamed: 8  \\\n",
       "0  24.0   2.31  53.8  6.575  296  15.3   4.98         NaN         NaN   \n",
       "1  21.6   7.07  46.9  6.421  242  17.8   9.14         NaN         NaN   \n",
       "2  34.7   7.07  46.9  7.185  242  17.8   4.03         NaN         NaN   \n",
       "3  33.4   2.18  45.8  6.998  222  18.7   2.94         NaN         NaN   \n",
       "4  36.2   2.18  45.8  7.147  222  18.7   5.33         NaN         NaN   \n",
       "\n",
       "                         Unnamed: 9  \n",
       "0    Subset of Boston housing tract  \n",
       "1    data of Harrison and Rubinfeld  \n",
       "2    (1978).  Each case is one U.S.  \n",
       "3  Census tract in the Boston area.  \n",
       "4                               NaN  "
      ]
     },
     "execution_count": 32,
     "metadata": {},
     "output_type": "execute_result"
    }
   ],
   "source": [
    "df1=x1.parse(\"Sheet1\") #df adalah dataframe\n",
    "df1.head()"
   ]
  },
  {
   "cell_type": "markdown",
   "metadata": {},
   "source": [
    "## read json file"
   ]
  },
  {
   "cell_type": "code",
   "execution_count": 33,
   "metadata": {},
   "outputs": [],
   "source": [
    "import pandas as pd\n",
    "import json\n",
    "#examine file json online : https://codebeautify.org/jsonviewer"
   ]
  },
  {
   "cell_type": "code",
   "execution_count": 37,
   "metadata": {},
   "outputs": [
    {
     "data": {
      "text/html": [
       "<div>\n",
       "<style scoped>\n",
       "    .dataframe tbody tr th:only-of-type {\n",
       "        vertical-align: middle;\n",
       "    }\n",
       "\n",
       "    .dataframe tbody tr th {\n",
       "        vertical-align: top;\n",
       "    }\n",
       "\n",
       "    .dataframe thead th {\n",
       "        text-align: right;\n",
       "    }\n",
       "</style>\n",
       "<table border=\"1\" class=\"dataframe\">\n",
       "  <thead>\n",
       "    <tr style=\"text-align: right;\">\n",
       "      <th></th>\n",
       "      <th>Area ha (acre)</th>\n",
       "      <th>Criteria</th>\n",
       "      <th>Description</th>\n",
       "      <th>Image</th>\n",
       "      <th>Location</th>\n",
       "      <th>Site</th>\n",
       "      <th>Year</th>\n",
       "    </tr>\n",
       "  </thead>\n",
       "  <tbody>\n",
       "    <tr>\n",
       "      <th>0</th>\n",
       "      <td>135 (330)</td>\n",
       "      <td>Cultural: (ii)(iii)</td>\n",
       "      <td></td>\n",
       "      <td>/wiki/File:MuryeongsTomb.jpg</td>\n",
       "      <td>South Chungcheong, North Jeolla</td>\n",
       "      <td>Baekje Historic Areas</td>\n",
       "      <td>2015</td>\n",
       "    </tr>\n",
       "    <tr>\n",
       "      <th>1</th>\n",
       "      <td></td>\n",
       "      <td>Cultural: (iii)</td>\n",
       "      <td></td>\n",
       "      <td>/wiki/File:Korea-Gwangju-Gochang_Dolmens_5350-...</td>\n",
       "      <td>Incheon, North Jeolla, South Jeolla</td>\n",
       "      <td>Gochang, Hwasun and Ganghwa Dolmen Sites</td>\n",
       "      <td>2000</td>\n",
       "    </tr>\n",
       "    <tr>\n",
       "      <th>2</th>\n",
       "      <td></td>\n",
       "      <td>Cultural: (ii)(iii)(iv)</td>\n",
       "      <td></td>\n",
       "      <td>/wiki/File:Juhamnu,_Changdeokgung_-_Seoul,_Kor...</td>\n",
       "      <td>Seoul</td>\n",
       "      <td>Changdeokgung Palace Complex</td>\n",
       "      <td>1997</td>\n",
       "    </tr>\n",
       "    <tr>\n",
       "      <th>3</th>\n",
       "      <td>2,880 (7,100)</td>\n",
       "      <td>Cultural: (ii)(iii)</td>\n",
       "      <td></td>\n",
       "      <td>/wiki/File:Korea-Gyeongju-Bunhwangsa-Lanterns-...</td>\n",
       "      <td>North Gyeongsang</td>\n",
       "      <td>Gyeongju Historic Areas</td>\n",
       "      <td>2000</td>\n",
       "    </tr>\n",
       "    <tr>\n",
       "      <th>4</th>\n",
       "      <td></td>\n",
       "      <td>Cultural: (iv)(vi)</td>\n",
       "      <td></td>\n",
       "      <td>/wiki/File:Haeinsa_Temple_(6222053899).jpg</td>\n",
       "      <td>South Gyeongsang</td>\n",
       "      <td>Haeinsa Temple Janggyeong Panjeon, the Deposit...</td>\n",
       "      <td>1995</td>\n",
       "    </tr>\n",
       "    <tr>\n",
       "      <th>5</th>\n",
       "      <td>600 (1,500)</td>\n",
       "      <td>Cultural: (iii)(iv)</td>\n",
       "      <td></td>\n",
       "      <td>/wiki/File:Hahoe_8784.jpg</td>\n",
       "      <td>North Gyeongsang</td>\n",
       "      <td>Historic Villages of Korea: Hahoe and Yangdong</td>\n",
       "      <td>2010</td>\n",
       "    </tr>\n",
       "  </tbody>\n",
       "</table>\n",
       "</div>"
      ],
      "text/plain": [
       "  Area ha (acre)                 Criteria Description  \\\n",
       "0      135 (330)      Cultural: (ii)(iii)               \n",
       "1                         Cultural: (iii)               \n",
       "2                 Cultural: (ii)(iii)(iv)               \n",
       "3  2,880 (7,100)      Cultural: (ii)(iii)               \n",
       "4                      Cultural: (iv)(vi)               \n",
       "5    600 (1,500)      Cultural: (iii)(iv)               \n",
       "\n",
       "                                               Image  \\\n",
       "0                       /wiki/File:MuryeongsTomb.jpg   \n",
       "1  /wiki/File:Korea-Gwangju-Gochang_Dolmens_5350-...   \n",
       "2  /wiki/File:Juhamnu,_Changdeokgung_-_Seoul,_Kor...   \n",
       "3  /wiki/File:Korea-Gyeongju-Bunhwangsa-Lanterns-...   \n",
       "4         /wiki/File:Haeinsa_Temple_(6222053899).jpg   \n",
       "5                          /wiki/File:Hahoe_8784.jpg   \n",
       "\n",
       "                              Location  \\\n",
       "0      South Chungcheong, North Jeolla   \n",
       "1  Incheon, North Jeolla, South Jeolla   \n",
       "2                                Seoul   \n",
       "3                     North Gyeongsang   \n",
       "4                     South Gyeongsang   \n",
       "5                     North Gyeongsang   \n",
       "\n",
       "                                                Site  Year  \n",
       "0                              Baekje Historic Areas  2015  \n",
       "1           Gochang, Hwasun and Ganghwa Dolmen Sites  2000  \n",
       "2                       Changdeokgung Palace Complex  1997  \n",
       "3                            Gyeongju Historic Areas  2000  \n",
       "4  Haeinsa Temple Janggyeong Panjeon, the Deposit...  1995  \n",
       "5     Historic Villages of Korea: Hahoe and Yangdong  2010  "
      ]
     },
     "execution_count": 37,
     "metadata": {},
     "output_type": "execute_result"
    }
   ],
   "source": [
    "file=\"D:\\\\Data Science\\\\scriptsLecture\\\\section4\\\\skorea.json\"\n",
    "df=pd.read_json(file)\n",
    "df.head(6)"
   ]
  },
  {
   "cell_type": "code",
   "execution_count": 38,
   "metadata": {},
   "outputs": [
    {
     "data": {
      "text/plain": [
       "(12, 7)"
      ]
     },
     "execution_count": 38,
     "metadata": {},
     "output_type": "execute_result"
    }
   ],
   "source": [
    "df.shape #mengecek jumlah baris dan kolom"
   ]
  },
  {
   "cell_type": "code",
   "execution_count": 39,
   "metadata": {},
   "outputs": [],
   "source": [
    "#web=pd.read_json(\"urlgithubnya\")\n",
    "#web.head(4)"
   ]
  },
  {
   "cell_type": "markdown",
   "metadata": {},
   "source": [
    "## read html file"
   ]
  },
  {
   "cell_type": "code",
   "execution_count": 40,
   "metadata": {},
   "outputs": [],
   "source": [
    "import pandas as pd\n",
    "import html5lib"
   ]
  },
  {
   "cell_type": "code",
   "execution_count": 41,
   "metadata": {},
   "outputs": [],
   "source": [
    "uss=pd.read_html(\"https://simple.wikipedia.org/wiki/List_of_U.S._states\") #mengambil data dari web"
   ]
  },
  {
   "cell_type": "code",
   "execution_count": 42,
   "metadata": {},
   "outputs": [
    {
     "name": "stdout",
     "output_type": "stream",
     "text": [
      "<class 'list'>\n"
     ]
    }
   ],
   "source": [
    "print(type(uss)) #melihat tipe data"
   ]
  },
  {
   "cell_type": "code",
   "execution_count": 43,
   "metadata": {},
   "outputs": [
    {
     "name": "stdout",
     "output_type": "stream",
     "text": [
      "                          Name & Abbr          Cities                  \\\n",
      "                          Name & Abbr         Capital      Largest[3]   \n",
      "0                        Alabama   AL      Montgomery      Birmingham   \n",
      "1                         Alaska   AK          Juneau       Anchorage   \n",
      "2                        Arizona   AZ         Phoenix         Phoenix   \n",
      "3                       Arkansas   AR     Little Rock     Little Rock   \n",
      "4                     California   CA      Sacramento     Los Angeles   \n",
      "5                       Colorado   CO          Denver          Denver   \n",
      "6                    Connecticut   CT        Hartford      Bridgeport   \n",
      "7                       Delaware   DE           Dover      Wilmington   \n",
      "8                        Florida   FL     Tallahassee    Jacksonville   \n",
      "9                        Georgia   GA         Atlanta         Atlanta   \n",
      "10                        Hawaii   HI        Honolulu        Honolulu   \n",
      "11                         Idaho   ID           Boise           Boise   \n",
      "12                      Illinois   IL     Springfield         Chicago   \n",
      "13                       Indiana   IN    Indianapolis    Indianapolis   \n",
      "14                          Iowa   IA      Des Moines      Des Moines   \n",
      "15                        Kansas   KS          Topeka         Wichita   \n",
      "16       Kentucky[upper-alpha 2]   KY       Frankfort      Louisville   \n",
      "17                     Louisiana   LA     Baton Rouge     New Orleans   \n",
      "18                         Maine   ME         Augusta        Portland   \n",
      "19                      Maryland   MD       Annapolis       Baltimore   \n",
      "20  Massachusetts[upper-alpha 2]   MA          Boston          Boston   \n",
      "21                      Michigan   MI         Lansing         Detroit   \n",
      "22                     Minnesota   MN        St. Paul     Minneapolis   \n",
      "23                   Mississippi   MS         Jackson         Jackson   \n",
      "24                      Missouri   MO  Jefferson City     Kansas City   \n",
      "25                       Montana   MT          Helena        Billings   \n",
      "26                      Nebraska   NE         Lincoln           Omaha   \n",
      "27                        Nevada   NV     Carson City       Las Vegas   \n",
      "28                 New Hampshire   NH         Concord      Manchester   \n",
      "29                    New Jersey   NJ         Trenton          Newark   \n",
      "30                    New Mexico   NM        Santa Fe     Albuquerque   \n",
      "31                      New York   NY          Albany        New York   \n",
      "32                North Carolina   NC         Raleigh       Charlotte   \n",
      "33                  North Dakota   ND        Bismarck           Fargo   \n",
      "34                          Ohio   OH        Columbus        Columbus   \n",
      "35                      Oklahoma   OK   Oklahoma City   Oklahoma City   \n",
      "36                        Oregon   OR           Salem        Portland   \n",
      "37   Pennsylvania[upper-alpha 2]   PA      Harrisburg    Philadelphia   \n",
      "38   Rhode Island[upper-alpha 3]   RI      Providence      Providence   \n",
      "39                South Carolina   SC        Columbia      Charleston   \n",
      "40                  South Dakota   SD          Pierre     Sioux Falls   \n",
      "41                     Tennessee   TN       Nashville       Nashville   \n",
      "42                         Texas   TX          Austin         Houston   \n",
      "43                          Utah   UT  Salt Lake City  Salt Lake City   \n",
      "44                       Vermont   VT      Montpelier      Burlington   \n",
      "45       Virginia[upper-alpha 2]   VA        Richmond  Virginia Beach   \n",
      "46                    Washington   WA         Olympia         Seattle   \n",
      "47                 West Virginia   WV      Charleston      Charleston   \n",
      "48                     Wisconsin   WI         Madison       Milwaukee   \n",
      "49                       Wyoming   WY        Cheyenne        Cheyenne   \n",
      "\n",
      "     Established Population[upper-alpha 1][1] Total area[2]           \\\n",
      "     Established Population[upper-alpha 1][1]           mi2      km2   \n",
      "0   Dec 14, 1819                      4874747         52420   135767   \n",
      "1    Jan 3, 1959                       739795        665384  1723337   \n",
      "2   Feb 14, 1912                      7016270        113990   295234   \n",
      "3   Jun 15, 1836                      3004279         53179   137732   \n",
      "4    Sep 9, 1850                     39536653        163695   423967   \n",
      "5    Aug 1, 1876                      5607154        104094   269601   \n",
      "6    Jan 9, 1788                      3588184          5543    14357   \n",
      "7    Dec 7, 1787                       961939          2489     6446   \n",
      "8    Mar 3, 1845                     20984400         65758   170312   \n",
      "9    Jan 2, 1788                     10429379         59425   153910   \n",
      "10  Aug 21, 1959                      1427538         10932    28313   \n",
      "11   Jul 3, 1890                      1716943         83569   216443   \n",
      "12   Dec 3, 1818                     12802023         57914   149995   \n",
      "13  Dec 11, 1816                      6666818         36420    94326   \n",
      "14  Dec 28, 1846                      3145711         56273   145746   \n",
      "15  Jan 29, 1861                      2913123         82278   213100   \n",
      "16   Jun 1, 1792                      4454189         40408   104656   \n",
      "17  Apr 30, 1812                      4684333         52378   135659   \n",
      "18  Mar 15, 1820                      1335907         35380    91633   \n",
      "19  Apr 28, 1788                      6052177         12406    32131   \n",
      "20   Feb 6, 1788                      6859819         10554    27336   \n",
      "21  Jan 26, 1837                      9962311         96714   250487   \n",
      "22  May 11, 1858                      5576606         86936   225163   \n",
      "23  Dec 10, 1817                      2984100         48432   125438   \n",
      "24  Aug 10, 1821                      6113532         69707   180540   \n",
      "25   Nov 8, 1889                      1050493        147040   380831   \n",
      "26   Mar 1, 1867                      1920076         77348   200330   \n",
      "27  Oct 31, 1864                      2998039        110572   286380   \n",
      "28  Jun 21, 1788                      1342795          9349    24214   \n",
      "29  Dec 18, 1787                      9005644          8723    22591   \n",
      "30   Jan 6, 1912                      2088070        121590   314917   \n",
      "31  Jul 26, 1788                     19849399         54555   141297   \n",
      "32  Nov 21, 1789                     10273419         53819   139391   \n",
      "33   Nov 2, 1889                       755393         70698   183108   \n",
      "34   Mar 1, 1803                     11658609         44826   116098   \n",
      "35  Nov 16, 1907                      3930864         69899   181037   \n",
      "36  Feb 14, 1859                      4142776         98379   254799   \n",
      "37  Dec 12, 1787                     12805537         46054   119280   \n",
      "38  May 29, 1790                      1059639          1545     4001   \n",
      "39  May 23, 1788                      5024369         32020    82933   \n",
      "40   Nov 2, 1889                       869666         77116   199729   \n",
      "41   Jun 1, 1796                      6715984         42144   109153   \n",
      "42  Dec 29, 1845                     28304596        268596   695662   \n",
      "43   Jan 4, 1896                      3101833         84897   219882   \n",
      "44   Mar 4, 1791                       623657          9616    24906   \n",
      "45  Jun 25, 1788                      8470020         42775   110787   \n",
      "46  Nov 11, 1889                      7405743         71298   184661   \n",
      "47  Jun 20, 1863                      1815857         24230    62756   \n",
      "48  May 29, 1848                      5795483         65496   169635   \n",
      "49  Jul 10, 1890                       579315         97813   253335   \n",
      "\n",
      "   Land area[2]          Water area[2]         Numberof Reps.  \n",
      "            mi2      km2           mi2     km2 Numberof Reps.  \n",
      "0         50645   131171          1775    4597              7  \n",
      "1        570641  1477953         94743  245384              1  \n",
      "2        113594   294207           396    1026              9  \n",
      "3         52035   134771          1143    2961              4  \n",
      "4        155779   403466          7916   20501             53  \n",
      "5        103642   268431           452    1170              7  \n",
      "6          4842    12542           701    1816              5  \n",
      "7          1949     5047           540    1399              1  \n",
      "8         53625   138887         12133   31424             27  \n",
      "9         57513   148959          1912    4951             14  \n",
      "10         6423    16635          4509   11678              2  \n",
      "11        82643   214045           926    2398              2  \n",
      "12        55519   143793          2395    6202             18  \n",
      "13        35826    92789           593    1537              9  \n",
      "14        55857   144669           416    1077              4  \n",
      "15        81759   211754           520    1346              4  \n",
      "16        39486   102269           921    2387              6  \n",
      "17        43204   111898          9174   23761              6  \n",
      "18        30843    79883          4537   11750              2  \n",
      "19         9707    25142          2699    6990              8  \n",
      "20         7800    20202          2754    7134              9  \n",
      "21        56539   146435         40175  104052             14  \n",
      "22        79627   206232          7309   18930              8  \n",
      "23        46923   121531          1508    3907              4  \n",
      "24        68742   178040           965    2501              8  \n",
      "25       145546   376962          1494    3869              1  \n",
      "26        76824   198974           524    1356              3  \n",
      "27       109781   284332           791    2048              4  \n",
      "28         8953    23187           397    1027              2  \n",
      "29         7354    19047          1368    3544             12  \n",
      "30       121298   314161           292     757              3  \n",
      "31        47126   122057          7429   19240             27  \n",
      "32        48618   125920          5201   13471             13  \n",
      "33        69001   178711          1698    4397              1  \n",
      "34        40861   105829          3965   10269             16  \n",
      "35        68595   177660          1304    3377              5  \n",
      "36        95988   248608          2391    6191              5  \n",
      "37        44743   115883          1312    3397             18  \n",
      "38         1034     2678           511    1324              2  \n",
      "39        30061    77857          1960    5076              7  \n",
      "40        75811   196350          1305    3379              1  \n",
      "41        41235   106798           909    2355              9  \n",
      "42       261232   676587          7365   19075             36  \n",
      "43        82170   212818          2727    7064              4  \n",
      "44         9217    23871           400    1035              1  \n",
      "45        39490   102279          3285    8508             11  \n",
      "46        66456   172119          4842   12542             10  \n",
      "47        24038    62259           192     497              3  \n",
      "48        54158   140268         11339   29367              8  \n",
      "49        97093   251470           720    1864              1  \n"
     ]
    }
   ],
   "source": [
    "u=uss[0] # menampilkan data frame dari index 0\n",
    "print(u)"
   ]
  },
  {
   "cell_type": "code",
   "execution_count": 45,
   "metadata": {},
   "outputs": [
    {
     "name": "stdout",
     "output_type": "stream",
     "text": [
      "<class 'list'>\n"
     ]
    }
   ],
   "source": [
    "url=\"https://www.fdic.gov/bank/individual/failed/banklist.html\"\n",
    "dfs=pd.read_html(url)\n",
    "print(type(dfs))"
   ]
  },
  {
   "cell_type": "code",
   "execution_count": 46,
   "metadata": {},
   "outputs": [
    {
     "name": "stdout",
     "output_type": "stream",
     "text": [
      "                                             Bank Name                City  \\\n",
      "0                  Washington Federal Bank for Savings             Chicago   \n",
      "1      The Farmers and Merchants State Bank of Argonia             Argonia   \n",
      "2                                  Fayette County Bank          Saint Elmo   \n",
      "3    Guaranty Bank, (d/b/a BestBank in Georgia & Mi...           Milwaukee   \n",
      "4                                       First NBC Bank         New Orleans   \n",
      "5                                        Proficio Bank  Cottonwood Heights   \n",
      "6                        Seaway Bank and Trust Company             Chicago   \n",
      "7                               Harvest Community Bank          Pennsville   \n",
      "8                                          Allied Bank            Mulberry   \n",
      "9                         The Woodbury Banking Company            Woodbury   \n",
      "10                              First CornerStone Bank     King of Prussia   \n",
      "11                                  Trust Company Bank             Memphis   \n",
      "12                          North Milwaukee State Bank           Milwaukee   \n",
      "13                              Hometown National Bank            Longview   \n",
      "14                                 The Bank of Georgia      Peachtree City   \n",
      "15                                        Premier Bank              Denver   \n",
      "16                                      Edgebrook Bank             Chicago   \n",
      "17                              Doral Bank  En Espanol            San Juan   \n",
      "18                   Capitol City Bank & Trust Company             Atlanta   \n",
      "19                             Highland Community Bank             Chicago   \n",
      "20                    First National Bank of Crestview           Crestview   \n",
      "21                                  Northern Star Bank             Mankato   \n",
      "22              Frontier Bank, FSB D/B/A El Paseo Bank         Palm Desert   \n",
      "23               The National Republic Bank of Chicago             Chicago   \n",
      "24                                      NBRS Financial          Rising Sun   \n",
      "25                               GreenChoice Bank, fsb             Chicago   \n",
      "26                            Eastside Commercial Bank             Conyers   \n",
      "27                              The Freedom State Bank             Freedom   \n",
      "28                                         Valley Bank     Fort Lauderdale   \n",
      "29                                         Valley Bank              Moline   \n",
      "..                                                 ...                 ...   \n",
      "525                                  ANB Financial, NA         Bentonville   \n",
      "526                                          Hume Bank                Hume   \n",
      "527                             Douglass National Bank         Kansas City   \n",
      "528                                  Miami Valley Bank            Lakeview   \n",
      "529                                            NetBank          Alpharetta   \n",
      "530                          Metropolitan Savings Bank          Pittsburgh   \n",
      "531                                    Bank of Ephraim             Ephraim   \n",
      "532                                      Reliance Bank        White Plains   \n",
      "533              Guaranty National Bank of Tallahassee         Tallahassee   \n",
      "534                                Dollar Savings Bank              Newark   \n",
      "535                               Pulaski Savings Bank        Philadelphia   \n",
      "536              First National Bank of Blanchardville      Blanchardville   \n",
      "537                              Southern Pacific Bank            Torrance   \n",
      "538                        Farmers Bank of Cheneyville         Cheneyville   \n",
      "539                                      Bank of Alamo               Alamo   \n",
      "540             AmTrade International Bank  En Espanol             Atlanta   \n",
      "541                     Universal Federal Savings Bank             Chicago   \n",
      "542                       Connecticut Bank of Commerce            Stamford   \n",
      "543                                   New Century Bank     Shelby Township   \n",
      "544                              Net 1st National Bank          Boca Raton   \n",
      "545                                       NextBank, NA             Phoenix   \n",
      "546                           Oakwood Deposit Bank Co.             Oakwood   \n",
      "547                              Bank of Sierra Blanca       Sierra Blanca   \n",
      "548                      Hamilton Bank, NA  En Espanol               Miami   \n",
      "549                             Sinclair National Bank            Gravette   \n",
      "550                                 Superior Bank, FSB            Hinsdale   \n",
      "551                                Malta National Bank               Malta   \n",
      "552                    First Alliance Bank & Trust Co.          Manchester   \n",
      "553                  National State Bank of Metropolis          Metropolis   \n",
      "554                                   Bank of Honolulu            Honolulu   \n",
      "\n",
      "     ST   CERT                Acquiring Institution        Closing Date  \\\n",
      "0    IL  30570                   Royal Savings Bank   December 15, 2017   \n",
      "1    KS  17719                          Conway Bank    October 13, 2017   \n",
      "2    IL   1802            United Fidelity Bank, fsb        May 26, 2017   \n",
      "3    WI  30003  First-Citizens Bank & Trust Company         May 5, 2017   \n",
      "4    LA  58302                         Whitney Bank      April 28, 2017   \n",
      "5    UT  35495                    Cache Valley Bank       March 3, 2017   \n",
      "6    IL  19328                  State Bank of Texas    January 27, 2017   \n",
      "7    NJ  34951  First-Citizens Bank & Trust Company    January 13, 2017   \n",
      "8    AR     91                         Today's Bank  September 23, 2016   \n",
      "9    GA  11297                          United Bank     August 19, 2016   \n",
      "10   PA  35312  First-Citizens Bank & Trust Company         May 6, 2016   \n",
      "11   TN   9956           The Bank of Fayette County      April 29, 2016   \n",
      "12   WI  20364  First-Citizens Bank & Trust Company      March 11, 2016   \n",
      "13   WA  35156                       Twin City Bank     October 2, 2015   \n",
      "14   GA  35259                        Fidelity Bank     October 2, 2015   \n",
      "15   CO  34112            United Fidelity Bank, fsb       July 10, 2015   \n",
      "16   IL  57772             Republic Bank of Chicago         May 8, 2015   \n",
      "17   PR  32102         Banco Popular de Puerto Rico   February 27, 2015   \n",
      "18   GA  33938  First-Citizens Bank & Trust Company   February 13, 2015   \n",
      "19   IL  20290            United Fidelity Bank, fsb    January 23, 2015   \n",
      "20   FL  17557                       First NBC Bank    January 16, 2015   \n",
      "21   MN  34983                            BankVista   December 19, 2014   \n",
      "22   CA  34738    Bank of Southern California, N.A.    November 7, 2014   \n",
      "23   IL    916                  State Bank of Texas    October 24, 2014   \n",
      "24   MD   4862                          Howard Bank    October 17, 2014   \n",
      "25   IL  28462                 Providence Bank, LLC       July 25, 2014   \n",
      "26   GA  58125            Community & Southern Bank       July 18, 2014   \n",
      "27   OK  12483      Alva State Bank & Trust Company       June 27, 2014   \n",
      "28   FL  21793  Landmark Bank, National Association       June 20, 2014   \n",
      "29   IL  10450                  Great Southern Bank       June 20, 2014   \n",
      "..   ..    ...                                  ...                 ...   \n",
      "525  AR  33901       Pulaski Bank and Trust Company         May 9, 2008   \n",
      "526  MO   1971                        Security Bank       March 7, 2008   \n",
      "527  MO  24660       Liberty Bank and Trust Company    January 25, 2008   \n",
      "528  OH  16848         The Citizens Banking Company     October 4, 2007   \n",
      "529  GA  32575                           ING DIRECT  September 28, 2007   \n",
      "530  PA  35353  Allegheny Valley Bank of Pittsburgh    February 2, 2007   \n",
      "531  UT   1249                        Far West Bank       June 25, 2004   \n",
      "532  NY  26778                     Union State Bank      March 19, 2004   \n",
      "533  FL  26838              Hancock Bank of Florida      March 12, 2004   \n",
      "534  NJ  31330                          No Acquirer   February 14, 2004   \n",
      "535  PA  27203                       Earthstar Bank   November 14, 2003   \n",
      "536  WI  11639                        The Park Bank         May 9, 2003   \n",
      "537  CA  27094                            Beal Bank    February 7, 2003   \n",
      "538  LA  16445            Sabine State Bank & Trust   December 17, 2002   \n",
      "539  TN   9961                          No Acquirer    November 8, 2002   \n",
      "540  GA  33784                          No Acquirer  September 30, 2002   \n",
      "541  IL  29355               Chicago Community Bank       June 27, 2002   \n",
      "542  CT  19183                   Hudson United Bank       June 26, 2002   \n",
      "543  MI  34979                          No Acquirer      March 28, 2002   \n",
      "544  FL  26652                       Bank Leumi USA       March 1, 2002   \n",
      "545  AZ  22314                          No Acquirer    February 7, 2002   \n",
      "546  OH   8966       The State Bank & Trust Company    February 1, 2002   \n",
      "547  TX  22002     The Security State Bank of Pecos    January 18, 2002   \n",
      "548  FL  24382     Israel Discount Bank of New York    January 11, 2002   \n",
      "549  AR  34248                   Delta Trust & Bank   September 7, 2001   \n",
      "550  IL  32646                Superior Federal, FSB       July 27, 2001   \n",
      "551  OH   6629                    North Valley Bank         May 3, 2001   \n",
      "552  NH  34264  Southern New Hampshire Bank & Trust    February 2, 2001   \n",
      "553  IL   3815              Banterra Bank of Marion   December 14, 2000   \n",
      "554  HI  21029                   Bank of the Orient    October 13, 2000   \n",
      "\n",
      "           Updated Date  \n",
      "0      February 1, 2019  \n",
      "1     February 21, 2018  \n",
      "2      January 29, 2019  \n",
      "3        March 22, 2018  \n",
      "4      January 29, 2019  \n",
      "5      January 29, 2019  \n",
      "6      January 29, 2019  \n",
      "7          May 18, 2017  \n",
      "8      January 29, 2019  \n",
      "9     December 13, 2018  \n",
      "10    November 13, 2018  \n",
      "11   September 14, 2018  \n",
      "12     January 29, 2019  \n",
      "13    February 19, 2018  \n",
      "14         July 9, 2018  \n",
      "15    February 20, 2018  \n",
      "16     January 29, 2019  \n",
      "17     January 29, 2019  \n",
      "18     January 29, 2019  \n",
      "19    November 15, 2017  \n",
      "20    November 15, 2017  \n",
      "21      January 3, 2018  \n",
      "22    November 10, 2016  \n",
      "23      January 6, 2016  \n",
      "24     January 29, 2019  \n",
      "25    December 12, 2016  \n",
      "26      October 6, 2017  \n",
      "27    February 21, 2018  \n",
      "28     January 29, 2019  \n",
      "29     January 29, 2019  \n",
      "..                  ...  \n",
      "525    February 1, 2019  \n",
      "526    January 31, 2019  \n",
      "527    October 26, 2012  \n",
      "528  September 12, 2016  \n",
      "529    January 31, 2019  \n",
      "530    October 27, 2010  \n",
      "531       April 9, 2008  \n",
      "532       April 9, 2008  \n",
      "533      April 17, 2018  \n",
      "534       April 9, 2008  \n",
      "535     October 6, 2017  \n",
      "536        June 5, 2012  \n",
      "537    October 20, 2008  \n",
      "538    October 20, 2004  \n",
      "539      March 18, 2005  \n",
      "540  September 11, 2006  \n",
      "541     October 6, 2017  \n",
      "542   February 14, 2012  \n",
      "543      March 18, 2005  \n",
      "544       April 9, 2008  \n",
      "545    February 5, 2015  \n",
      "546    October 25, 2012  \n",
      "547    November 6, 2003  \n",
      "548  September 21, 2015  \n",
      "549     October 6, 2017  \n",
      "550     August 19, 2014  \n",
      "551   November 18, 2002  \n",
      "552   February 18, 2003  \n",
      "553      March 17, 2005  \n",
      "554      March 17, 2005  \n",
      "\n",
      "[555 rows x 7 columns]\n"
     ]
    }
   ],
   "source": [
    "df=dfs[0]\n",
    "print(df)"
   ]
  },
  {
   "cell_type": "code",
   "execution_count": 47,
   "metadata": {},
   "outputs": [
    {
     "name": "stdout",
     "output_type": "stream",
     "text": [
      "                                                 Site  Image  \\\n",
      "0                               Baekje Historic Areas    NaN   \n",
      "1            Gochang, Hwasun and Ganghwa Dolmen Sites    NaN   \n",
      "2                        Changdeokgung Palace Complex    NaN   \n",
      "3                             Gyeongju Historic Areas    NaN   \n",
      "4   Haeinsa Temple Janggyeong Panjeon, the Deposit...    NaN   \n",
      "5      Historic Villages of Korea: Hahoe and Yangdong    NaN   \n",
      "6                                   Hwaseong Fortress    NaN   \n",
      "7                 Jeju Volcanic Island and Lava Tubes    NaN   \n",
      "8                                      Jongmyo Shrine    NaN   \n",
      "9                                      Namhansanseong    NaN   \n",
      "10                  Royal Tombs of the Joseon Dynasty    NaN   \n",
      "11      Sansa, Buddhist Mountain Monasteries in Korea    NaN   \n",
      "12               Seokguram Grotto and Bulguksa Temple    NaN   \n",
      "\n",
      "                                             Location                Criteria  \\\n",
      "0   South Chungcheong and North Jeolla36°27′43″N 1...      Cultural:(ii)(iii)   \n",
      "1   Incheon, North Jeolla and South Jeolla34°58′00...          Cultural:(iii)   \n",
      "2   Seoul37°33′00″N 126°59′00″E﻿ / ﻿37.55000°N 126...  Cultural:(ii)(iii)(iv)   \n",
      "3   North Gyeongsang35°47′20″N 129°13′36″E﻿ / ﻿35....      Cultural:(ii)(iii)   \n",
      "4   South Gyeongsang35°48′00″N 128°06′00″E﻿ / ﻿35....       Cultural:(iv)(vi)   \n",
      "5   North Gyeongsang36°32′21″N 128°31′00″E﻿ / ﻿36....      Cultural:(iii)(iv)   \n",
      "6   Gyeonggi37°16′20″N 127°00′30″E﻿ / ﻿37.27222°N ...      Cultural:(ii)(iii)   \n",
      "7   Jeju33°28′08″N 126°43′13″E﻿ / ﻿33.46889°N 126....     Natural:(vii)(viii)   \n",
      "8   Seoul37°33′00″N 126°59′00″E﻿ / ﻿37.55000°N 126...           Cultural:(iv)   \n",
      "9   Gyeonggi37°28′44″N 127°10′52″E﻿ / ﻿37.47889°N ...       Cultural:(ii)(iv)   \n",
      "10  Gyeonggi and Seoul37°11′50″N 128°27′10″E﻿ / ﻿3...  Cultural:(iii)(iv)(vi)   \n",
      "11  North Chungcheong, North Gyeongsang, South Chu...          Cultural:(iii)   \n",
      "12  North Gyeongsang35°47′00″N 129°21′00″E﻿ / ﻿35....        Cultural:(i)(iv)   \n",
      "\n",
      "   Areaha (acre)  Year Description  \n",
      "0            NaN  2015         [9]  \n",
      "1              —  2000        [10]  \n",
      "2              —  1997        [11]  \n",
      "3            NaN  2000        [12]  \n",
      "4              —  1995        [13]  \n",
      "5            NaN  2010        [14]  \n",
      "6              —  1997        [15]  \n",
      "7            NaN  2007        [16]  \n",
      "8            NaN  1995        [17]  \n",
      "9            NaN  2014        [18]  \n",
      "10           NaN  2009        [19]  \n",
      "11           NaN  2018        [20]  \n",
      "12             —  1995        [21]  \n"
     ]
    }
   ],
   "source": [
    "whsSK=pd.read_html(\"https://en.wikipedia.org/wiki/List_of_World_Heritage_Sites_in_South_Korea\")\n",
    "whs_SK=whsSK[0] #mengambil data dari index 0 sedangkan untuk mengambil tabel kedua dalam website menggunakan index 1 dan tabel ketiga menggunakan indeks 2\n",
    "print(whs_SK)"
   ]
  },
  {
   "cell_type": "code",
   "execution_count": null,
   "metadata": {},
   "outputs": [],
   "source": []
  }
 ],
 "metadata": {
  "kernelspec": {
   "display_name": "Python 3",
   "language": "python",
   "name": "python3"
  },
  "language_info": {
   "codemirror_mode": {
    "name": "ipython",
    "version": 3
   },
   "file_extension": ".py",
   "mimetype": "text/x-python",
   "name": "python",
   "nbconvert_exporter": "python",
   "pygments_lexer": "ipython3",
   "version": "3.7.3"
  }
 },
 "nbformat": 4,
 "nbformat_minor": 2
}
